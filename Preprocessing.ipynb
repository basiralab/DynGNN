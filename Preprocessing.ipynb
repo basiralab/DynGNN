{
 "cells": [
  {
   "cell_type": "code",
   "execution_count": 9,
   "id": "8aa28cce",
   "metadata": {},
   "outputs": [],
   "source": [
    "import numpy as np\n",
    "import random\n",
    "import torch\n",
    "from models.gconvGRU import GConvGRUModel\n",
    "from memory_capacity_utils import gen_lag_data, get_mem_cap_from_model"
   ]
  },
  {
   "cell_type": "code",
   "execution_count": 10,
   "id": "f0145e3a",
   "metadata": {},
   "outputs": [
    {
     "name": "stdout",
     "output_type": "stream",
     "text": [
      "running on GPU\n"
     ]
    }
   ],
   "source": [
    "if torch.cuda.is_available():\n",
    "    device = torch.device('cuda:0')\n",
    "    print('running on GPU')\n",
    "else:\n",
    "    device = torch.device(\"cpu\")\n",
    "    print('running on CPU')"
   ]
  },
  {
   "cell_type": "code",
   "execution_count": 13,
   "id": "7656ccee",
   "metadata": {},
   "outputs": [],
   "source": [
    "dataset = np.load(\"datasets/multivariate_simulation_data_2.npy\")\n",
    "dataset = torch.from_numpy(dataset).squeeze()\n",
    "dataset = dataset.type(torch.FloatTensor)\n",
    "dataset = dataset[:, :, :, :]"
   ]
  },
  {
   "cell_type": "code",
   "execution_count": 14,
   "id": "48c7797d",
   "metadata": {},
   "outputs": [],
   "source": [
    "manual_seed = 777\n",
    "max_lag = 35\n",
    "np.random.seed(manual_seed)\n",
    "random.seed(manual_seed)\n",
    "torch.manual_seed(manual_seed)\n",
    "\n",
    "# Reservoir signals\n",
    "X_train_res_np, y_train_res_np = gen_lag_data(1000, 41, max_lag)\n",
    "X_test_res_np, y_test_res_np = gen_lag_data(500, 42, max_lag)\n",
    "X_train_res = torch.from_numpy(X_train_res_np).unsqueeze(1).to(device, dtype=torch.float64)\n",
    "X_test_res = torch.from_numpy(X_test_res_np).unsqueeze(1).to(device, dtype=torch.float64)\n",
    "y_train_res = torch.from_numpy(y_train_res_np).to(device, dtype=torch.float64)\n",
    "y_test_res = torch.from_numpy(y_test_res_np).to(device, dtype=torch.float64)"
   ]
  },
  {
   "cell_type": "code",
   "execution_count": 18,
   "id": "93da83c6",
   "metadata": {},
   "outputs": [],
   "source": [
    "torch.manual_seed(1)\n",
    "input_weights = (torch.rand((35, 1), dtype=torch.float64) * 2.0 - 1.0).to(device)\n",
    "model = GConvGRUModel(device=device, input_weights=input_weights, input_scaling=1e-6).to(device)\n",
    "mem_caps = np.zeros((dataset.shape[0], dataset.shape[1]))\n",
    "for n_subjects in range(dataset.shape[0]):\n",
    "    for n_t in range(dataset.shape[1]):\n",
    "        mem_caps[n_subjects, n_t] = get_mem_cap_from_model(model, dataset[n_subjects, n_t, :, :].to(device), X_train_res, y_train_res, X_test_res, y_test_res).item()"
   ]
  },
  {
   "cell_type": "code",
   "execution_count": null,
   "id": "15fee9e8",
   "metadata": {},
   "outputs": [],
   "source": [
    "np.save('mem_caps_2', mem_caps)"
   ]
  }
 ],
 "metadata": {
  "kernelspec": {
   "display_name": "Python 3 (ipykernel)",
   "language": "python",
   "name": "python3"
  },
  "language_info": {
   "codemirror_mode": {
    "name": "ipython",
    "version": 3
   },
   "file_extension": ".py",
   "mimetype": "text/x-python",
   "name": "python",
   "nbconvert_exporter": "python",
   "pygments_lexer": "ipython3",
   "version": "3.8.18"
  }
 },
 "nbformat": 4,
 "nbformat_minor": 5
}
